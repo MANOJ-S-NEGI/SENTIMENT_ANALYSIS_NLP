{
  "nbformat": 4,
  "nbformat_minor": 0,
  "metadata": {
    "colab": {
      "provenance": [],
      "authorship_tag": "ABX9TyNwCXPjPCl+1ztqw2+GnveB",
      "include_colab_link": true
    },
    "kernelspec": {
      "name": "python3",
      "display_name": "Python 3"
    },
    "language_info": {
      "name": "python"
    }
  },
  "cells": [
    {
      "cell_type": "markdown",
      "metadata": {
        "id": "view-in-github",
        "colab_type": "text"
      },
      "source": [
        "<a href=\"https://colab.research.google.com/github/MANOJ-S-NEGI/SENTIMENT_ANALYSIS_NLP/blob/main/sentiments_analysis_2.ipynb\" target=\"_parent\"><img src=\"https://colab.research.google.com/assets/colab-badge.svg\" alt=\"Open In Colab\"/></a>"
      ]
    },
    {
      "cell_type": "code",
      "source": [
        "import pandas as pd\n",
        "import numpy as np\n",
        "import matplotlib.pyplot as plt\n",
        "import re, nltk\n",
        "import seaborn as sns\n",
        "import string\n",
        "nltk.download('punkt')\n",
        "import tensorflow as tf"
      ],
      "metadata": {
        "colab": {
          "base_uri": "https://localhost:8080/"
        },
        "id": "fCRiJQRnlMl-",
        "outputId": "85062e9e-75df-4e84-bcc1-2d9b2cb26c5e"
      },
      "execution_count": 1,
      "outputs": [
        {
          "output_type": "stream",
          "name": "stderr",
          "text": [
            "[nltk_data] Downloading package punkt to /root/nltk_data...\n",
            "[nltk_data]   Unzipping tokenizers/punkt.zip.\n"
          ]
        }
      ]
    },
    {
      "cell_type": "code",
      "execution_count": 2,
      "metadata": {
        "id": "StxaoHF4lCl_"
      },
      "outputs": [],
      "source": [
        "df= pd.read_csv(\"/content/sentiment_analysis_clean_lemitized_data.csv\")"
      ]
    },
    {
      "cell_type": "code",
      "source": [
        "df.sample(3)"
      ],
      "metadata": {
        "colab": {
          "base_uri": "https://localhost:8080/",
          "height": 143
        },
        "id": "jdcMIVPTiR72",
        "outputId": "f28b8953-7ace-457d-fbb7-9f00086dbcc9"
      },
      "execution_count": 3,
      "outputs": [
        {
          "output_type": "execute_result",
          "data": {
            "text/plain": [
              "        target                                            reviews\n",
              "2117   neutral  southwestair ive never meet favorite band woul...\n",
              "5515  positive              southwestair good beers oscars ar dia\n",
              "1164  negative  americanair cancel flight flight jfk delay us ..."
            ],
            "text/html": [
              "\n",
              "  <div id=\"df-911ae44c-3dd7-4e6f-af4e-7abac3586928\" class=\"colab-df-container\">\n",
              "    <div>\n",
              "<style scoped>\n",
              "    .dataframe tbody tr th:only-of-type {\n",
              "        vertical-align: middle;\n",
              "    }\n",
              "\n",
              "    .dataframe tbody tr th {\n",
              "        vertical-align: top;\n",
              "    }\n",
              "\n",
              "    .dataframe thead th {\n",
              "        text-align: right;\n",
              "    }\n",
              "</style>\n",
              "<table border=\"1\" class=\"dataframe\">\n",
              "  <thead>\n",
              "    <tr style=\"text-align: right;\">\n",
              "      <th></th>\n",
              "      <th>target</th>\n",
              "      <th>reviews</th>\n",
              "    </tr>\n",
              "  </thead>\n",
              "  <tbody>\n",
              "    <tr>\n",
              "      <th>2117</th>\n",
              "      <td>neutral</td>\n",
              "      <td>southwestair ive never meet favorite band woul...</td>\n",
              "    </tr>\n",
              "    <tr>\n",
              "      <th>5515</th>\n",
              "      <td>positive</td>\n",
              "      <td>southwestair good beers oscars ar dia</td>\n",
              "    </tr>\n",
              "    <tr>\n",
              "      <th>1164</th>\n",
              "      <td>negative</td>\n",
              "      <td>americanair cancel flight flight jfk delay us ...</td>\n",
              "    </tr>\n",
              "  </tbody>\n",
              "</table>\n",
              "</div>\n",
              "    <div class=\"colab-df-buttons\">\n",
              "      \n",
              "  <div class=\"colab-df-container\">\n",
              "    <button class=\"colab-df-convert\" onclick=\"convertToInteractive('df-911ae44c-3dd7-4e6f-af4e-7abac3586928')\"\n",
              "            title=\"Convert this dataframe to an interactive table.\"\n",
              "            style=\"display:none;\">\n",
              "      \n",
              "  <svg xmlns=\"http://www.w3.org/2000/svg\" height=\"24px\" viewBox=\"0 -960 960 960\">\n",
              "    <path d=\"M120-120v-720h720v720H120Zm60-500h600v-160H180v160Zm220 220h160v-160H400v160Zm0 220h160v-160H400v160ZM180-400h160v-160H180v160Zm440 0h160v-160H620v160ZM180-180h160v-160H180v160Zm440 0h160v-160H620v160Z\"/>\n",
              "  </svg>\n",
              "    </button>\n",
              "    \n",
              "  <style>\n",
              "    .colab-df-container {\n",
              "      display:flex;\n",
              "      gap: 12px;\n",
              "    }\n",
              "\n",
              "    .colab-df-convert {\n",
              "      background-color: #E8F0FE;\n",
              "      border: none;\n",
              "      border-radius: 50%;\n",
              "      cursor: pointer;\n",
              "      display: none;\n",
              "      fill: #1967D2;\n",
              "      height: 32px;\n",
              "      padding: 0 0 0 0;\n",
              "      width: 32px;\n",
              "    }\n",
              "\n",
              "    .colab-df-convert:hover {\n",
              "      background-color: #E2EBFA;\n",
              "      box-shadow: 0px 1px 2px rgba(60, 64, 67, 0.3), 0px 1px 3px 1px rgba(60, 64, 67, 0.15);\n",
              "      fill: #174EA6;\n",
              "    }\n",
              "\n",
              "    .colab-df-buttons div {\n",
              "      margin-bottom: 4px;\n",
              "    }\n",
              "\n",
              "    [theme=dark] .colab-df-convert {\n",
              "      background-color: #3B4455;\n",
              "      fill: #D2E3FC;\n",
              "    }\n",
              "\n",
              "    [theme=dark] .colab-df-convert:hover {\n",
              "      background-color: #434B5C;\n",
              "      box-shadow: 0px 1px 3px 1px rgba(0, 0, 0, 0.15);\n",
              "      filter: drop-shadow(0px 1px 2px rgba(0, 0, 0, 0.3));\n",
              "      fill: #FFFFFF;\n",
              "    }\n",
              "  </style>\n",
              "\n",
              "    <script>\n",
              "      const buttonEl =\n",
              "        document.querySelector('#df-911ae44c-3dd7-4e6f-af4e-7abac3586928 button.colab-df-convert');\n",
              "      buttonEl.style.display =\n",
              "        google.colab.kernel.accessAllowed ? 'block' : 'none';\n",
              "\n",
              "      async function convertToInteractive(key) {\n",
              "        const element = document.querySelector('#df-911ae44c-3dd7-4e6f-af4e-7abac3586928');\n",
              "        const dataTable =\n",
              "          await google.colab.kernel.invokeFunction('convertToInteractive',\n",
              "                                                    [key], {});\n",
              "        if (!dataTable) return;\n",
              "\n",
              "        const docLinkHtml = 'Like what you see? Visit the ' +\n",
              "          '<a target=\"_blank\" href=https://colab.research.google.com/notebooks/data_table.ipynb>data table notebook</a>'\n",
              "          + ' to learn more about interactive tables.';\n",
              "        element.innerHTML = '';\n",
              "        dataTable['output_type'] = 'display_data';\n",
              "        await google.colab.output.renderOutput(dataTable, element);\n",
              "        const docLink = document.createElement('div');\n",
              "        docLink.innerHTML = docLinkHtml;\n",
              "        element.appendChild(docLink);\n",
              "      }\n",
              "    </script>\n",
              "  </div>\n",
              "  \n",
              "    </div>\n",
              "  </div>\n",
              "  "
            ]
          },
          "metadata": {},
          "execution_count": 3
        }
      ]
    },
    {
      "cell_type": "code",
      "source": [
        "# seperating feature and target column:\n",
        "x = df['reviews']\n",
        "\n",
        "# Create a mapping dictionary\n",
        "sentiment_mapping = {'negative': 0, 'positive': 1, 'neutral': 2}\n",
        "# Apply the mapping using the 'map' function\n",
        "y = df['target'].map(sentiment_mapping)"
      ],
      "metadata": {
        "id": "kIrnJOGViPWm"
      },
      "execution_count": 4,
      "outputs": []
    },
    {
      "cell_type": "code",
      "source": [
        "x_token_frame = x.copy()"
      ],
      "metadata": {
        "id": "ie9SE9pBtbYc"
      },
      "execution_count": 5,
      "outputs": []
    },
    {
      "cell_type": "code",
      "source": [
        "counter = 0\n",
        "for text in x:\n",
        "    split_word = []\n",
        "    for split in text.split():\n",
        "        split_word.append(split)\n",
        "    # Join and tokenize\n",
        "    tokenize_sentence = nltk.word_tokenize(' '.join(split_word))\n",
        "    x_token_frame[counter] = tokenize_sentence.copy()\n",
        "    counter = counter+1"
      ],
      "metadata": {
        "id": "vH0iNLehrvCu"
      },
      "execution_count": 6,
      "outputs": []
    },
    {
      "cell_type": "code",
      "source": [
        "x_token_frame.sample()"
      ],
      "metadata": {
        "colab": {
          "base_uri": "https://localhost:8080/"
        },
        "id": "yFV48i3_tD0a",
        "outputId": "897689b0-f9f0-4667-8be7-9c6601f4337d"
      },
      "execution_count": 7,
      "outputs": [
        {
          "output_type": "execute_result",
          "data": {
            "text/plain": [
              "334    [usairways, sorry, try, add, day, vacation, ch...\n",
              "Name: reviews, dtype: object"
            ]
          },
          "metadata": {},
          "execution_count": 7
        }
      ]
    },
    {
      "cell_type": "code",
      "source": [
        "### integer encoding using keras:\n",
        "from keras.preprocessing.text import Tokenizer\n",
        "tokenizer = Tokenizer(oov_token = '')\n",
        "tokenizer.fit_on_texts(x_token_frame)"
      ],
      "metadata": {
        "id": "a0RB-fmai8fx"
      },
      "execution_count": 8,
      "outputs": []
    },
    {
      "cell_type": "code",
      "source": [],
      "metadata": {
        "id": "sCH04Cv-6Aod"
      },
      "execution_count": 8,
      "outputs": []
    },
    {
      "cell_type": "code",
      "source": [
        "## performing the split:\n",
        "\n",
        "from sklearn.model_selection import train_test_split\n",
        "\n",
        "x_train, x_test, y_train, y_test = train_test_split(x_token_frame, y, test_size=0.10)\n",
        "\n",
        "print(f\"x_train shape {x_train.shape} x_train_length: {len(x_train)}\")\n",
        "print(f\"y_train shape {y_train.shape} y_train_length: {len(y_train)}\")\n",
        "\n",
        "print(f\"x_test shape {x_test.shape} x_test_length: {len(x_test)}\")\n",
        "print(f\"y_test shape {y_test.shape} y_test_length: {len(y_test)}\")"
      ],
      "metadata": {
        "colab": {
          "base_uri": "https://localhost:8080/"
        },
        "id": "tH3pY3ESiKmt",
        "outputId": "05335923-969b-444d-d9ff-c35104bfcf8e"
      },
      "execution_count": 9,
      "outputs": [
        {
          "output_type": "stream",
          "name": "stdout",
          "text": [
            "x_train shape (5400,) x_train_length: 5400\n",
            "y_train shape (5400,) y_train_length: 5400\n",
            "x_test shape (600,) x_test_length: 600\n",
            "y_test shape (600,) y_test_length: 600\n"
          ]
        }
      ]
    },
    {
      "cell_type": "code",
      "source": [
        "# searching max length and vocab size\n",
        "\n",
        "# findind input dim:\n",
        "vocab_size = len(tokenizer.word_index)\n",
        "vocab_size = vocab_size+1\n",
        "print(f\"Vocabulary size: {vocab_size}\")\n",
        "\n",
        "\n",
        "\n",
        "\n",
        "# searching max length:\n",
        "max_seq_length = 0\n",
        "for sentence in x_train:\n",
        "    current_length = len(sentence)\n",
        "    if current_length > max_seq_length:\n",
        "        max_seq_length = current_length\n",
        "\n",
        "print(\"max_seq_length\", max_seq_length)"
      ],
      "metadata": {
        "colab": {
          "base_uri": "https://localhost:8080/"
        },
        "id": "CM9FVGwUmF19",
        "outputId": "de80bcb6-b0cd-4fe7-9ee2-1205ef7d8632"
      },
      "execution_count": 10,
      "outputs": [
        {
          "output_type": "stream",
          "name": "stdout",
          "text": [
            "Vocabulary size: 7196\n",
            "max_seq_length 22\n"
          ]
        }
      ]
    },
    {
      "cell_type": "code",
      "source": [
        "x_train = tokenizer.texts_to_sequences(x_train)\n",
        "x_test = tokenizer.texts_to_sequences(x_test)"
      ],
      "metadata": {
        "id": "-jeaksI7jWzN"
      },
      "execution_count": 11,
      "outputs": []
    },
    {
      "cell_type": "code",
      "source": [],
      "metadata": {
        "id": "UVeUnKb48I2D"
      },
      "execution_count": 11,
      "outputs": []
    },
    {
      "cell_type": "code",
      "source": [
        "## paddding the each rows :\n",
        "from keras.utils import pad_sequences\n",
        "\n",
        "x_train = pad_sequences(x_train, maxlen=max_seq_length, padding='post')\n",
        "x_test = pad_sequences(x_test, maxlen=max_seq_length, padding='post')\n",
        "print(f\"x_train shape {x_train.shape}\\n x_train_length: {len(x_train)}\")\n",
        "print(f\"y_train shape {y_train.shape}\\n y_train_length: {len(y_train)}\")\n"
      ],
      "metadata": {
        "colab": {
          "base_uri": "https://localhost:8080/"
        },
        "id": "v_9Y7hPjoRZF",
        "outputId": "731007b3-fa9d-4015-b9c8-e22452d8d772"
      },
      "execution_count": 12,
      "outputs": [
        {
          "output_type": "stream",
          "name": "stdout",
          "text": [
            "x_train shape (5400, 22)\n",
            " x_train_length: 5400\n",
            "y_train shape (5400,)\n",
            " y_train_length: 5400\n"
          ]
        }
      ]
    },
    {
      "cell_type": "code",
      "source": [
        "x_train[:2]"
      ],
      "metadata": {
        "colab": {
          "base_uri": "https://localhost:8080/"
        },
        "id": "ESgDGkl2ocWf",
        "outputId": "8437ef3a-b93d-4ace-d4e7-06ca912361dc"
      },
      "execution_count": 13,
      "outputs": [
        {
          "output_type": "execute_result",
          "data": {
            "text/plain": [
              "array([[   3,  218,   13, 3533,    2,  365,  994,   65,  634,  254,   43,\n",
              "         364,   48,   15,    2,  312,    0,    0,    0,    0,    0,    0],\n",
              "       [   3, 1677,  898,   54,  194,  135,   20,   41,   26,  242,  127,\n",
              "         111,  141,    0,    0,    0,    0,    0,    0,    0,    0,    0]],\n",
              "      dtype=int32)"
            ]
          },
          "metadata": {},
          "execution_count": 13
        }
      ]
    },
    {
      "cell_type": "code",
      "source": [
        "## converting into numpy:\n",
        "\n",
        "x_train = np.array(x_train)\n",
        "x_test = np.array(x_test)\n",
        "y_train = np.array(y_train)\n",
        "y_test = np.array(y_test)\n"
      ],
      "metadata": {
        "id": "9P4b_UI0lUys"
      },
      "execution_count": 14,
      "outputs": []
    },
    {
      "cell_type": "code",
      "source": [
        "## creating sequential model layers:\n",
        "model_sentiments = tf.keras.Sequential([\n",
        "\n",
        "    tf.keras.layers.Embedding(input_dim = 7196 , output_dim=3, input_length = max_seq_length ),\n",
        "    tf.keras.layers.LSTM(100,dropout=0.2, activation='relu', return_sequences = True),  # Added return_sequences=True\n",
        "     tf.keras.layers.SpatialDropout1D(rate=0.3),\n",
        "    tf.keras.layers.LSTM(100, dropout=0.2, activation='relu', return_sequences = False),  # Added return_sequences=True\n",
        "\n",
        "    tf.keras.layers.Dense(3, activation='softmax')\n",
        "\n",
        "])\n",
        "\n",
        "\n",
        "## model summary:\n",
        "model_sentiments.summary()\n",
        ""
      ],
      "metadata": {
        "colab": {
          "base_uri": "https://localhost:8080/"
        },
        "id": "n_mppozpoVzq",
        "outputId": "74386a63-fe03-47ce-8c39-83674fc041c2"
      },
      "execution_count": 15,
      "outputs": [
        {
          "output_type": "stream",
          "name": "stdout",
          "text": [
            "Model: \"sequential\"\n",
            "_________________________________________________________________\n",
            " Layer (type)                Output Shape              Param #   \n",
            "=================================================================\n",
            " embedding (Embedding)       (None, 22, 3)             21588     \n",
            "                                                                 \n",
            " lstm (LSTM)                 (None, 22, 100)           41600     \n",
            "                                                                 \n",
            " spatial_dropout1d (Spatial  (None, 22, 100)           0         \n",
            " Dropout1D)                                                      \n",
            "                                                                 \n",
            " lstm_1 (LSTM)               (None, 100)               80400     \n",
            "                                                                 \n",
            " dense (Dense)               (None, 3)                 303       \n",
            "                                                                 \n",
            "=================================================================\n",
            "Total params: 143891 (562.07 KB)\n",
            "Trainable params: 143891 (562.07 KB)\n",
            "Non-trainable params: 0 (0.00 Byte)\n",
            "_________________________________________________________________\n"
          ]
        }
      ]
    },
    {
      "cell_type": "code",
      "source": [
        "# Create a function to implement a Earlystop callback with loss monitor)\n",
        "Early_stop = tf.keras.callbacks.EarlyStopping( monitor='val_loss', patience = 3, verbose = 2)\n",
        "\n",
        "## model compiling :\n",
        "optimize = tf.keras.optimizers.experimental.Adam(learning_rate=0.0001)\n",
        "model_sentiments.compile(optimizer= optimize, loss='sparse_categorical_crossentropy', metrics=['accuracy'])\n",
        "\n"
      ],
      "metadata": {
        "id": "QX3TWWFdqW7H"
      },
      "execution_count": 16,
      "outputs": []
    },
    {
      "cell_type": "code",
      "source": [
        "# fitting the model:\n",
        "history = model_sentiments.fit(x_train,y_train,\n",
        "                  validation_data=(x_test, y_test),\n",
        "                  batch_size=32,\n",
        "                  epochs=30,\n",
        "                  callbacks=Early_stop)\n"
      ],
      "metadata": {
        "colab": {
          "base_uri": "https://localhost:8080/"
        },
        "id": "ehejen9ZmOAP",
        "outputId": "31a8ee6c-7edb-41b5-d9b3-4250ef1a6a80"
      },
      "execution_count": 17,
      "outputs": [
        {
          "output_type": "stream",
          "name": "stdout",
          "text": [
            "Epoch 1/30\n",
            "169/169 [==============================] - 10s 43ms/step - loss: 1.0984 - accuracy: 0.3389 - val_loss: 1.0975 - val_accuracy: 0.4367\n",
            "Epoch 2/30\n",
            "169/169 [==============================] - 8s 45ms/step - loss: 1.0572 - accuracy: 0.4330 - val_loss: 0.9533 - val_accuracy: 0.5050\n",
            "Epoch 3/30\n",
            "169/169 [==============================] - 8s 49ms/step - loss: 0.9393 - accuracy: 0.5178 - val_loss: 0.9109 - val_accuracy: 0.5300\n",
            "Epoch 4/30\n",
            "169/169 [==============================] - 7s 39ms/step - loss: 0.8788 - accuracy: 0.5617 - val_loss: 0.8688 - val_accuracy: 0.5700\n",
            "Epoch 5/30\n",
            "169/169 [==============================] - 4s 23ms/step - loss: 0.8423 - accuracy: 0.5922 - val_loss: 0.8496 - val_accuracy: 0.5900\n",
            "Epoch 6/30\n",
            "169/169 [==============================] - 4s 26ms/step - loss: 0.7955 - accuracy: 0.6369 - val_loss: 0.8283 - val_accuracy: 0.6100\n",
            "Epoch 7/30\n",
            "169/169 [==============================] - 4s 22ms/step - loss: 0.7624 - accuracy: 0.6474 - val_loss: 0.8232 - val_accuracy: 0.5983\n",
            "Epoch 8/30\n",
            "169/169 [==============================] - 4s 22ms/step - loss: 0.7376 - accuracy: 0.6743 - val_loss: 0.8103 - val_accuracy: 0.6233\n",
            "Epoch 9/30\n",
            "169/169 [==============================] - 4s 27ms/step - loss: 0.7062 - accuracy: 0.6972 - val_loss: 0.8037 - val_accuracy: 0.6300\n",
            "Epoch 10/30\n",
            "169/169 [==============================] - 4s 22ms/step - loss: 0.6873 - accuracy: 0.7004 - val_loss: 0.7923 - val_accuracy: 0.6367\n",
            "Epoch 11/30\n",
            "169/169 [==============================] - 4s 22ms/step - loss: 0.6529 - accuracy: 0.7246 - val_loss: 0.8066 - val_accuracy: 0.6317\n",
            "Epoch 12/30\n",
            "169/169 [==============================] - 5s 27ms/step - loss: 0.6392 - accuracy: 0.7287 - val_loss: 0.8237 - val_accuracy: 0.6317\n",
            "Epoch 13/30\n",
            "169/169 [==============================] - 4s 22ms/step - loss: 0.6143 - accuracy: 0.7443 - val_loss: 0.7988 - val_accuracy: 0.6367\n",
            "Epoch 13: early stopping\n"
          ]
        }
      ]
    },
    {
      "cell_type": "code",
      "source": [
        "prediction = model_sentiments.predict(x_test)"
      ],
      "metadata": {
        "colab": {
          "base_uri": "https://localhost:8080/"
        },
        "id": "vCUgY5HbSX6u",
        "outputId": "e58396cf-fb6f-462a-9ca3-c0831cac007b"
      },
      "execution_count": 18,
      "outputs": [
        {
          "output_type": "stream",
          "name": "stdout",
          "text": [
            "19/19 [==============================] - 0s 9ms/step\n"
          ]
        }
      ]
    },
    {
      "cell_type": "code",
      "source": [
        "y_pred = []\n",
        "\n",
        "for i in prediction:\n",
        "    # Convert the probabilities to a NumPy array\n",
        "    probabilities = np.array(i)\n",
        "    # Get the index of the class with the highest probability\n",
        "    predicted_class = np.argmax(probabilities)\n",
        "    y_pred.append(predicted_class)\n",
        ""
      ],
      "metadata": {
        "id": "kyg5Fr7gEUNA"
      },
      "execution_count": 19,
      "outputs": []
    },
    {
      "cell_type": "code",
      "source": [
        "from sklearn.metrics import accuracy_score,f1_score\n",
        "from sklearn.metrics import confusion_matrix\n",
        "from sklearn.metrics import classification_report\n",
        "\n",
        "\n",
        "report = classification_report(y_test, y_pred)\n",
        "print(report)"
      ],
      "metadata": {
        "colab": {
          "base_uri": "https://localhost:8080/"
        },
        "id": "r3E2EYl7RDI-",
        "outputId": "1db9d01d-0688-4f3e-cee9-1776fb33fdad"
      },
      "execution_count": 28,
      "outputs": [
        {
          "output_type": "stream",
          "name": "stdout",
          "text": [
            "              precision    recall  f1-score   support\n",
            "\n",
            "           0       0.67      0.73      0.70       198\n",
            "           1       0.78      0.61      0.69       200\n",
            "           2       0.50      0.56      0.53       202\n",
            "\n",
            "    accuracy                           0.64       600\n",
            "   macro avg       0.65      0.64      0.64       600\n",
            "weighted avg       0.65      0.64      0.64       600\n",
            "\n"
          ]
        }
      ]
    },
    {
      "cell_type": "code",
      "source": [
        "# y_test and y_pred are your true and predicted labels\n",
        "f1 = f1_score(y_test, y_pred, average='weighted')\n",
        "acc = accuracy_score(y_test, y_pred)\n",
        "\n",
        "print(f\"f1_score : {round(f1,2)}\")\n",
        "print(f\"accuracy_score: {round(acc,2)}\")"
      ],
      "metadata": {
        "colab": {
          "base_uri": "https://localhost:8080/"
        },
        "id": "Tyl3dKKrigd-",
        "outputId": "497f94e7-ca41-4acc-ff12-23c563d8ba13"
      },
      "execution_count": 30,
      "outputs": [
        {
          "output_type": "stream",
          "name": "stdout",
          "text": [
            "f1_score : 0.64\n",
            "accuracy_score: 0.64\n"
          ]
        }
      ]
    },
    {
      "cell_type": "code",
      "source": [
        "# Generate a confusion matrix\n",
        "cm = confusion_matrix(y_test, y_pred)\n",
        "\n",
        "# Create a figure\n",
        "plt.figure(figsize=(5, 5))\n",
        "\n",
        "# Use Seaborn's heatmap to plot the confusion matrix\n",
        "sns.heatmap(cm, annot=True, fmt='d', cmap='flare', cbar=True,\n",
        "            xticklabels=['negative', 'positive', 'neutral'], yticklabels=['negative', 'positive', 'neutral'])\n",
        "\n",
        "# Add labels and title\n",
        "plt.xlabel('Predicted')\n",
        "plt.ylabel('Actual')\n",
        "plt.title('Confusion Matrix')\n",
        "\n",
        "# Show the plot\n",
        "plt.show()"
      ],
      "metadata": {
        "colab": {
          "base_uri": "https://localhost:8080/",
          "height": 487
        },
        "id": "4Or3Bt2QjAM_",
        "outputId": "18e336e5-a37c-4642-d003-f068cd74da9a"
      },
      "execution_count": 33,
      "outputs": [
        {
          "output_type": "display_data",
          "data": {
            "text/plain": [
              "<Figure size 500x500 with 2 Axes>"
            ],
            "image/png": "[encoded data removed]"
          },
          "metadata": {}
        }
      ]
    },
    {
      "cell_type": "code",
      "source": [
        "result = []\n",
        "for i in range(len(y_test)):\n",
        "    if y_pred[i] == y_test[i]:\n",
        "        result.append('correct prediction')\n",
        "    else:\n",
        "        result.append('wrong prediction')\n",
        "\n",
        "\n",
        "test_table =  pd.DataFrame({'actual_sentiments': y_test, 'prediction_review': y_pred, 'result': result})\n",
        ""
      ],
      "metadata": {
        "id": "buXfVW2wR7Uy"
      },
      "execution_count": 21,
      "outputs": []
    },
    {
      "cell_type": "code",
      "source": [
        "test_table.sample(10)"
      ],
      "metadata": {
        "colab": {
          "base_uri": "https://localhost:8080/",
          "height": 363
        },
        "id": "JRUCwqNyTuEz",
        "outputId": "742414e3-800c-4e47-98eb-b1f4dd1bc898"
      },
      "execution_count": 22,
      "outputs": [
        {
          "output_type": "execute_result",
          "data": {
            "text/plain": [
              "     actual_sentiments  prediction_review              result\n",
              "275                  0                  0  correct prediction\n",
              "0                    0                  0  correct prediction\n",
              "77                   2                  0    wrong prediction\n",
              "92                   2                  2  correct prediction\n",
              "135                  0                  2    wrong prediction\n",
              "591                  2                  1    wrong prediction\n",
              "117                  0                  0  correct prediction\n",
              "450                  0                  0  correct prediction\n",
              "456                  2                  2  correct prediction\n",
              "314                  1                  0    wrong prediction"
            ],
            "text/html": [
              "\n",
              "  <div id=\"df-cc480ff7-f8fc-49ed-b991-6397f56937dc\" class=\"colab-df-container\">\n",
              "    <div>\n",
              "<style scoped>\n",
              "    .dataframe tbody tr th:only-of-type {\n",
              "        vertical-align: middle;\n",
              "    }\n",
              "\n",
              "    .dataframe tbody tr th {\n",
              "        vertical-align: top;\n",
              "    }\n",
              "\n",
              "    .dataframe thead th {\n",
              "        text-align: right;\n",
              "    }\n",
              "</style>\n",
              "<table border=\"1\" class=\"dataframe\">\n",
              "  <thead>\n",
              "    <tr style=\"text-align: right;\">\n",
              "      <th></th>\n",
              "      <th>actual_sentiments</th>\n",
              "      <th>prediction_review</th>\n",
              "      <th>result</th>\n",
              "    </tr>\n",
              "  </thead>\n",
              "  <tbody>\n",
              "    <tr>\n",
              "      <th>275</th>\n",
              "      <td>0</td>\n",
              "      <td>0</td>\n",
              "      <td>correct prediction</td>\n",
              "    </tr>\n",
              "    <tr>\n",
              "      <th>0</th>\n",
              "      <td>0</td>\n",
              "      <td>0</td>\n",
              "      <td>correct prediction</td>\n",
              "    </tr>\n",
              "    <tr>\n",
              "      <th>77</th>\n",
              "      <td>2</td>\n",
              "      <td>0</td>\n",
              "      <td>wrong prediction</td>\n",
              "    </tr>\n",
              "    <tr>\n",
              "      <th>92</th>\n",
              "      <td>2</td>\n",
              "      <td>2</td>\n",
              "      <td>correct prediction</td>\n",
              "    </tr>\n",
              "    <tr>\n",
              "      <th>135</th>\n",
              "      <td>0</td>\n",
              "      <td>2</td>\n",
              "      <td>wrong prediction</td>\n",
              "    </tr>\n",
              "    <tr>\n",
              "      <th>591</th>\n",
              "      <td>2</td>\n",
              "      <td>1</td>\n",
              "      <td>wrong prediction</td>\n",
              "    </tr>\n",
              "    <tr>\n",
              "      <th>117</th>\n",
              "      <td>0</td>\n",
              "      <td>0</td>\n",
              "      <td>correct prediction</td>\n",
              "    </tr>\n",
              "    <tr>\n",
              "      <th>450</th>\n",
              "      <td>0</td>\n",
              "      <td>0</td>\n",
              "      <td>correct prediction</td>\n",
              "    </tr>\n",
              "    <tr>\n",
              "      <th>456</th>\n",
              "      <td>2</td>\n",
              "      <td>2</td>\n",
              "      <td>correct prediction</td>\n",
              "    </tr>\n",
              "    <tr>\n",
              "      <th>314</th>\n",
              "      <td>1</td>\n",
              "      <td>0</td>\n",
              "      <td>wrong prediction</td>\n",
              "    </tr>\n",
              "  </tbody>\n",
              "</table>\n",
              "</div>\n",
              "    <div class=\"colab-df-buttons\">\n",
              "      \n",
              "  <div class=\"colab-df-container\">\n",
              "    <button class=\"colab-df-convert\" onclick=\"convertToInteractive('df-cc480ff7-f8fc-49ed-b991-6397f56937dc')\"\n",
              "            title=\"Convert this dataframe to an interactive table.\"\n",
              "            style=\"display:none;\">\n",
              "      \n",
              "  <svg xmlns=\"http://www.w3.org/2000/svg\" height=\"24px\" viewBox=\"0 -960 960 960\">\n",
              "    <path d=\"M120-120v-720h720v720H120Zm60-500h600v-160H180v160Zm220 220h160v-160H400v160Zm0 220h160v-160H400v160ZM180-400h160v-160H180v160Zm440 0h160v-160H620v160ZM180-180h160v-160H180v160Zm440 0h160v-160H620v160Z\"/>\n",
              "  </svg>\n",
              "    </button>\n",
              "    \n",
              "  <style>\n",
              "    .colab-df-container {\n",
              "      display:flex;\n",
              "      gap: 12px;\n",
              "    }\n",
              "\n",
              "    .colab-df-convert {\n",
              "      background-color: #E8F0FE;\n",
              "      border: none;\n",
              "      border-radius: 50%;\n",
              "      cursor: pointer;\n",
              "      display: none;\n",
              "      fill: #1967D2;\n",
              "      height: 32px;\n",
              "      padding: 0 0 0 0;\n",
              "      width: 32px;\n",
              "    }\n",
              "\n",
              "    .colab-df-convert:hover {\n",
              "      background-color: #E2EBFA;\n",
              "      box-shadow: 0px 1px 2px rgba(60, 64, 67, 0.3), 0px 1px 3px 1px rgba(60, 64, 67, 0.15);\n",
              "      fill: #174EA6;\n",
              "    }\n",
              "\n",
              "    .colab-df-buttons div {\n",
              "      margin-bottom: 4px;\n",
              "    }\n",
              "\n",
              "    [theme=dark] .colab-df-convert {\n",
              "      background-color: #3B4455;\n",
              "      fill: #D2E3FC;\n",
              "    }\n",
              "\n",
              "    [theme=dark] .colab-df-convert:hover {\n",
              "      background-color: #434B5C;\n",
              "      box-shadow: 0px 1px 3px 1px rgba(0, 0, 0, 0.15);\n",
              "      filter: drop-shadow(0px 1px 2px rgba(0, 0, 0, 0.3));\n",
              "      fill: #FFFFFF;\n",
              "    }\n",
              "  </style>\n",
              "\n",
              "    <script>\n",
              "      const buttonEl =\n",
              "        document.querySelector('#df-cc480ff7-f8fc-49ed-b991-6397f56937dc button.colab-df-convert');\n",
              "      buttonEl.style.display =\n",
              "        google.colab.kernel.accessAllowed ? 'block' : 'none';\n",
              "\n",
              "      async function convertToInteractive(key) {\n",
              "        const element = document.querySelector('#df-cc480ff7-f8fc-49ed-b991-6397f56937dc');\n",
              "        const dataTable =\n",
              "          await google.colab.kernel.invokeFunction('convertToInteractive',\n",
              "                                                    [key], {});\n",
              "        if (!dataTable) return;\n",
              "\n",
              "        const docLinkHtml = 'Like what you see? Visit the ' +\n",
              "          '<a target=\"_blank\" href=https://colab.research.google.com/notebooks/data_table.ipynb>data table notebook</a>'\n",
              "          + ' to learn more about interactive tables.';\n",
              "        element.innerHTML = '';\n",
              "        dataTable['output_type'] = 'display_data';\n",
              "        await google.colab.output.renderOutput(dataTable, element);\n",
              "        const docLink = document.createElement('div');\n",
              "        docLink.innerHTML = docLinkHtml;\n",
              "        element.appendChild(docLink);\n",
              "      }\n",
              "    </script>\n",
              "  </div>\n",
              "  \n",
              "    </div>\n",
              "  </div>\n",
              "  "
            ]
          },
          "metadata": {},
          "execution_count": 22
        }
      ]
    },
    {
      "cell_type": "code",
      "source": [
        "print(\"correct prediction\",test_table[test_table.result == 'correct prediction']['result'].count())\n",
        "print(\"wrong prediction\",test_table[test_table.result == 'wrong prediction']['result'].count())"
      ],
      "metadata": {
        "colab": {
          "base_uri": "https://localhost:8080/"
        },
        "id": "F5o3dFIAospB",
        "outputId": "e38277a2-418d-40c9-c291-63694f660670"
      },
      "execution_count": 23,
      "outputs": [
        {
          "output_type": "stream",
          "name": "stdout",
          "text": [
            "correct prediction 382\n",
            "wrong prediction 218\n"
          ]
        }
      ]
    },
    {
      "cell_type": "code",
      "source": [
        "## checking predtion:\n",
        "\n",
        "comment = \"the airpalne got crack on the WINDOW seat are not comfortable\""
      ],
      "metadata": {
        "id": "OyntOiKZUbuq"
      },
      "execution_count": 24,
      "outputs": []
    },
    {
      "cell_type": "code",
      "source": [
        "## from nltk import stopwords\n",
        "from nltk.corpus import stopwords\n",
        "\n",
        "## from nltk importing WordNetLemmatizer\n",
        "from nltk.stem import WordNetLemmatizer\n",
        "\n",
        "## downloading pre define list, we can make customized one\n",
        "nltk.download('punkt')\n",
        "nltk.download('stopwords')\n",
        "nltk.download('wordnet')\n",
        "# Get the list of unique English stopwords\n",
        "stop_words_eng = set(stopwords.words('english'))\n",
        "\n",
        "# Initialize lemmatizer\n",
        "lemmatizer = WordNetLemmatizer()"
      ],
      "metadata": {
        "colab": {
          "base_uri": "https://localhost:8080/"
        },
        "id": "vQ7CQTdfXr1Q",
        "outputId": "835ee768-0fd8-4c98-8d24-1a907632e4bc"
      },
      "execution_count": 25,
      "outputs": [
        {
          "output_type": "stream",
          "name": "stderr",
          "text": [
            "[nltk_data] Downloading package punkt to /root/nltk_data...\n",
            "[nltk_data]   Package punkt is already up-to-date!\n",
            "[nltk_data] Downloading package stopwords to /root/nltk_data...\n",
            "[nltk_data]   Unzipping corpora/stopwords.zip.\n",
            "[nltk_data] Downloading package wordnet to /root/nltk_data...\n"
          ]
        }
      ]
    },
    {
      "cell_type": "code",
      "source": [
        "import nltk\n",
        "from nltk.tokenize import word_tokenize\n",
        "from tensorflow.keras.preprocessing.sequence import pad_sequences\n",
        "\n",
        "def sentiment_of_comment(text):\n",
        "    try:\n",
        "        tweet = []\n",
        "        text = text.lower()\n",
        "        split_text = word_tokenize(text)  # Use nltk's word_tokenize for tokenization\n",
        "\n",
        "        for j in split_text:\n",
        "            if j not in stop_words_eng:\n",
        "                base_form = lemmatizer.lemmatize(j, pos='v')\n",
        "                tweet.append(base_form)\n",
        "            else:\n",
        "                pass\n",
        "\n",
        "        clean_text = ' '.join(tweet)\n",
        "        token_word = tokenizer.texts_to_sequences([clean_text])  # Tokenize the clean text\n",
        "        token_word = pad_sequences(token_word, maxlen=max_seq_length, padding='post')  # Pad the sequences\n",
        "\n",
        "        prediction = model_sentiments.predict(token_word)\n",
        "        pred_class = np.argmax(prediction)\n",
        "        comment_list = ['negative', 'positive', 'neutral']\n",
        "\n",
        "        return comment_list[pred_class]\n",
        "\n",
        "\n",
        "    except Exception as e:\n",
        "        raise Exception(e)\n",
        "\n"
      ],
      "metadata": {
        "id": "IgJLJXu9c1DC"
      },
      "execution_count": 26,
      "outputs": []
    },
    {
      "cell_type": "code",
      "source": [
        "# Test the process function\n",
        "comment = \"while flying passangers situation become bad when one engine failed\"\n",
        "sentiment = sentiment_of_comment(comment)\n",
        "print(sentiment)"
      ],
      "metadata": {
        "colab": {
          "base_uri": "https://localhost:8080/"
        },
        "id": "t9UU3UG-eAW6",
        "outputId": "41f55325-64e1-4343-8a69-83dbc4504141"
      },
      "execution_count": 27,
      "outputs": [
        {
          "output_type": "stream",
          "name": "stdout",
          "text": [
            "1/1 [==============================] - 0s 18ms/step\n",
            "negative\n"
          ]
        }
      ]
    },
    {
      "cell_type": "markdown",
      "source": [
        "---\n",
        "---"
      ],
      "metadata": {
        "id": "lEfNnem3i7l_"
      }
    }
  ]
}