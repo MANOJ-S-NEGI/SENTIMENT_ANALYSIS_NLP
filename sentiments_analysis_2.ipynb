{
  "nbformat": 4,
  "nbformat_minor": 0,
  "metadata": {
    "colab": {
      "provenance": [],
      "authorship_tag": "ABX9TyNp2jSsbntUDMHm2UIrf6pn",
      "include_colab_link": true
    },
    "kernelspec": {
      "name": "python3",
      "display_name": "Python 3"
    },
    "language_info": {
      "name": "python"
    }
  },
  "cells": [
    {
      "cell_type": "markdown",
      "metadata": {
        "id": "view-in-github",
        "colab_type": "text"
      },
      "source": [
        "<a href=\"https://colab.research.google.com/github/MANOJ-S-NEGI/SENTIMENT_ANALYSIS_NLP/blob/main/sentiments_analysis_2.ipynb\" target=\"_parent\"><img src=\"https://colab.research.google.com/assets/colab-badge.svg\" alt=\"Open In Colab\"/></a>"
      ]
    },
    {
      "cell_type": "code",
      "source": [
        "import pandas as pd\n",
        "import numpy as np\n",
        "import matplotlib.pyplot as plt\n",
        "import re, nltk\n",
        "import seaborn as sns\n",
        "import string\n",
        "nltk.download('punkt')\n",
        "import tensorflow as tf"
      ],
      "metadata": {
        "colab": {
          "base_uri": "https://localhost:8080/"
        },
        "id": "fCRiJQRnlMl-",
        "outputId": "0e66fadc-7c1a-4c7d-8a04-b44813c73d7d"
      },
      "execution_count": 1,
      "outputs": [
        {
          "output_type": "stream",
          "name": "stderr",
          "text": [
            "[nltk_data] Downloading package punkt to /root/nltk_data...\n",
            "[nltk_data]   Package punkt is already up-to-date!\n"
          ]
        }
      ]
    },
    {
      "cell_type": "code",
      "execution_count": 2,
      "metadata": {
        "id": "StxaoHF4lCl_"
      },
      "outputs": [],
      "source": [
        "df= pd.read_csv(\"/content/sentiment_analysis_clean_lemitized_data.csv\")"
      ]
    },
    {
      "cell_type": "code",
      "source": [
        "df.sample(3)"
      ],
      "metadata": {
        "colab": {
          "base_uri": "https://localhost:8080/",
          "height": 143
        },
        "id": "jdcMIVPTiR72",
        "outputId": "3efa03ce-52ab-46c0-f64d-b9862ed88602"
      },
      "execution_count": 3,
      "outputs": [
        {
          "output_type": "execute_result",
          "data": {
            "text/plain": [
              "        target                                            reviews\n",
              "5217  positive  southwestair redcarpet southwest companion pas...\n",
              "1142  negative  southwestair cancel flight flight minutes take...\n",
              "5981  positive  usairways nick flight awesome please reward wa..."
            ],
            "text/html": [
              "\n",
              "  <div id=\"df-6561419e-d4be-4163-ad9b-9d8d49f679db\" class=\"colab-df-container\">\n",
              "    <div>\n",
              "<style scoped>\n",
              "    .dataframe tbody tr th:only-of-type {\n",
              "        vertical-align: middle;\n",
              "    }\n",
              "\n",
              "    .dataframe tbody tr th {\n",
              "        vertical-align: top;\n",
              "    }\n",
              "\n",
              "    .dataframe thead th {\n",
              "        text-align: right;\n",
              "    }\n",
              "</style>\n",
              "<table border=\"1\" class=\"dataframe\">\n",
              "  <thead>\n",
              "    <tr style=\"text-align: right;\">\n",
              "      <th></th>\n",
              "      <th>target</th>\n",
              "      <th>reviews</th>\n",
              "    </tr>\n",
              "  </thead>\n",
              "  <tbody>\n",
              "    <tr>\n",
              "      <th>5217</th>\n",
              "      <td>positive</td>\n",
              "      <td>southwestair redcarpet southwest companion pas...</td>\n",
              "    </tr>\n",
              "    <tr>\n",
              "      <th>1142</th>\n",
              "      <td>negative</td>\n",
              "      <td>southwestair cancel flight flight minutes take...</td>\n",
              "    </tr>\n",
              "    <tr>\n",
              "      <th>5981</th>\n",
              "      <td>positive</td>\n",
              "      <td>usairways nick flight awesome please reward wa...</td>\n",
              "    </tr>\n",
              "  </tbody>\n",
              "</table>\n",
              "</div>\n",
              "    <div class=\"colab-df-buttons\">\n",
              "\n",
              "  <div class=\"colab-df-container\">\n",
              "    <button class=\"colab-df-convert\" onclick=\"convertToInteractive('df-6561419e-d4be-4163-ad9b-9d8d49f679db')\"\n",
              "            title=\"Convert this dataframe to an interactive table.\"\n",
              "            style=\"display:none;\">\n",
              "\n",
              "  <svg xmlns=\"http://www.w3.org/2000/svg\" height=\"24px\" viewBox=\"0 -960 960 960\">\n",
              "    <path d=\"M120-120v-720h720v720H120Zm60-500h600v-160H180v160Zm220 220h160v-160H400v160Zm0 220h160v-160H400v160ZM180-400h160v-160H180v160Zm440 0h160v-160H620v160ZM180-180h160v-160H180v160Zm440 0h160v-160H620v160Z\"/>\n",
              "  </svg>\n",
              "    </button>\n",
              "\n",
              "  <style>\n",
              "    .colab-df-container {\n",
              "      display:flex;\n",
              "      gap: 12px;\n",
              "    }\n",
              "\n",
              "    .colab-df-convert {\n",
              "      background-color: #E8F0FE;\n",
              "      border: none;\n",
              "      border-radius: 50%;\n",
              "      cursor: pointer;\n",
              "      display: none;\n",
              "      fill: #1967D2;\n",
              "      height: 32px;\n",
              "      padding: 0 0 0 0;\n",
              "      width: 32px;\n",
              "    }\n",
              "\n",
              "    .colab-df-convert:hover {\n",
              "      background-color: #E2EBFA;\n",
              "      box-shadow: 0px 1px 2px rgba(60, 64, 67, 0.3), 0px 1px 3px 1px rgba(60, 64, 67, 0.15);\n",
              "      fill: #174EA6;\n",
              "    }\n",
              "\n",
              "    .colab-df-buttons div {\n",
              "      margin-bottom: 4px;\n",
              "    }\n",
              "\n",
              "    [theme=dark] .colab-df-convert {\n",
              "      background-color: #3B4455;\n",
              "      fill: #D2E3FC;\n",
              "    }\n",
              "\n",
              "    [theme=dark] .colab-df-convert:hover {\n",
              "      background-color: #434B5C;\n",
              "      box-shadow: 0px 1px 3px 1px rgba(0, 0, 0, 0.15);\n",
              "      filter: drop-shadow(0px 1px 2px rgba(0, 0, 0, 0.3));\n",
              "      fill: #FFFFFF;\n",
              "    }\n",
              "  </style>\n",
              "\n",
              "    <script>\n",
              "      const buttonEl =\n",
              "        document.querySelector('#df-6561419e-d4be-4163-ad9b-9d8d49f679db button.colab-df-convert');\n",
              "      buttonEl.style.display =\n",
              "        google.colab.kernel.accessAllowed ? 'block' : 'none';\n",
              "\n",
              "      async function convertToInteractive(key) {\n",
              "        const element = document.querySelector('#df-6561419e-d4be-4163-ad9b-9d8d49f679db');\n",
              "        const dataTable =\n",
              "          await google.colab.kernel.invokeFunction('convertToInteractive',\n",
              "                                                    [key], {});\n",
              "        if (!dataTable) return;\n",
              "\n",
              "        const docLinkHtml = 'Like what you see? Visit the ' +\n",
              "          '<a target=\"_blank\" href=https://colab.research.google.com/notebooks/data_table.ipynb>data table notebook</a>'\n",
              "          + ' to learn more about interactive tables.';\n",
              "        element.innerHTML = '';\n",
              "        dataTable['output_type'] = 'display_data';\n",
              "        await google.colab.output.renderOutput(dataTable, element);\n",
              "        const docLink = document.createElement('div');\n",
              "        docLink.innerHTML = docLinkHtml;\n",
              "        element.appendChild(docLink);\n",
              "      }\n",
              "    </script>\n",
              "  </div>\n",
              "\n",
              "\n",
              "<div id=\"df-cf54f355-1cd7-4bd3-8004-64a06646b361\">\n",
              "  <button class=\"colab-df-quickchart\" onclick=\"quickchart('df-cf54f355-1cd7-4bd3-8004-64a06646b361')\"\n",
              "            title=\"Suggest charts.\"\n",
              "            style=\"display:none;\">\n",
              "\n",
              "<svg xmlns=\"http://www.w3.org/2000/svg\" height=\"24px\"viewBox=\"0 0 24 24\"\n",
              "     width=\"24px\">\n",
              "    <g>\n",
              "        <path d=\"M19 3H5c-1.1 0-2 .9-2 2v14c0 1.1.9 2 2 2h14c1.1 0 2-.9 2-2V5c0-1.1-.9-2-2-2zM9 17H7v-7h2v7zm4 0h-2V7h2v10zm4 0h-2v-4h2v4z\"/>\n",
              "    </g>\n",
              "</svg>\n",
              "  </button>\n",
              "\n",
              "<style>\n",
              "  .colab-df-quickchart {\n",
              "      --bg-color: #E8F0FE;\n",
              "      --fill-color: #1967D2;\n",
              "      --hover-bg-color: #E2EBFA;\n",
              "      --hover-fill-color: #174EA6;\n",
              "      --disabled-fill-color: #AAA;\n",
              "      --disabled-bg-color: #DDD;\n",
              "  }\n",
              "\n",
              "  [theme=dark] .colab-df-quickchart {\n",
              "      --bg-color: #3B4455;\n",
              "      --fill-color: #D2E3FC;\n",
              "      --hover-bg-color: #434B5C;\n",
              "      --hover-fill-color: #FFFFFF;\n",
              "      --disabled-bg-color: #3B4455;\n",
              "      --disabled-fill-color: #666;\n",
              "  }\n",
              "\n",
              "  .colab-df-quickchart {\n",
              "    background-color: var(--bg-color);\n",
              "    border: none;\n",
              "    border-radius: 50%;\n",
              "    cursor: pointer;\n",
              "    display: none;\n",
              "    fill: var(--fill-color);\n",
              "    height: 32px;\n",
              "    padding: 0;\n",
              "    width: 32px;\n",
              "  }\n",
              "\n",
              "  .colab-df-quickchart:hover {\n",
              "    background-color: var(--hover-bg-color);\n",
              "    box-shadow: 0 1px 2px rgba(60, 64, 67, 0.3), 0 1px 3px 1px rgba(60, 64, 67, 0.15);\n",
              "    fill: var(--button-hover-fill-color);\n",
              "  }\n",
              "\n",
              "  .colab-df-quickchart-complete:disabled,\n",
              "  .colab-df-quickchart-complete:disabled:hover {\n",
              "    background-color: var(--disabled-bg-color);\n",
              "    fill: var(--disabled-fill-color);\n",
              "    box-shadow: none;\n",
              "  }\n",
              "\n",
              "  .colab-df-spinner {\n",
              "    border: 2px solid var(--fill-color);\n",
              "    border-color: transparent;\n",
              "    border-bottom-color: var(--fill-color);\n",
              "    animation:\n",
              "      spin 1s steps(1) infinite;\n",
              "  }\n",
              "\n",
              "  @keyframes spin {\n",
              "    0% {\n",
              "      border-color: transparent;\n",
              "      border-bottom-color: var(--fill-color);\n",
              "      border-left-color: var(--fill-color);\n",
              "    }\n",
              "    20% {\n",
              "      border-color: transparent;\n",
              "      border-left-color: var(--fill-color);\n",
              "      border-top-color: var(--fill-color);\n",
              "    }\n",
              "    30% {\n",
              "      border-color: transparent;\n",
              "      border-left-color: var(--fill-color);\n",
              "      border-top-color: var(--fill-color);\n",
              "      border-right-color: var(--fill-color);\n",
              "    }\n",
              "    40% {\n",
              "      border-color: transparent;\n",
              "      border-right-color: var(--fill-color);\n",
              "      border-top-color: var(--fill-color);\n",
              "    }\n",
              "    60% {\n",
              "      border-color: transparent;\n",
              "      border-right-color: var(--fill-color);\n",
              "    }\n",
              "    80% {\n",
              "      border-color: transparent;\n",
              "      border-right-color: var(--fill-color);\n",
              "      border-bottom-color: var(--fill-color);\n",
              "    }\n",
              "    90% {\n",
              "      border-color: transparent;\n",
              "      border-bottom-color: var(--fill-color);\n",
              "    }\n",
              "  }\n",
              "</style>\n",
              "\n",
              "  <script>\n",
              "    async function quickchart(key) {\n",
              "      const quickchartButtonEl =\n",
              "        document.querySelector('#' + key + ' button');\n",
              "      quickchartButtonEl.disabled = true;  // To prevent multiple clicks.\n",
              "      quickchartButtonEl.classList.add('colab-df-spinner');\n",
              "      try {\n",
              "        const charts = await google.colab.kernel.invokeFunction(\n",
              "            'suggestCharts', [key], {});\n",
              "      } catch (error) {\n",
              "        console.error('Error during call to suggestCharts:', error);\n",
              "      }\n",
              "      quickchartButtonEl.classList.remove('colab-df-spinner');\n",
              "      quickchartButtonEl.classList.add('colab-df-quickchart-complete');\n",
              "    }\n",
              "    (() => {\n",
              "      let quickchartButtonEl =\n",
              "        document.querySelector('#df-cf54f355-1cd7-4bd3-8004-64a06646b361 button');\n",
              "      quickchartButtonEl.style.display =\n",
              "        google.colab.kernel.accessAllowed ? 'block' : 'none';\n",
              "    })();\n",
              "  </script>\n",
              "</div>\n",
              "    </div>\n",
              "  </div>\n"
            ]
          },
          "metadata": {},
          "execution_count": 3
        }
      ]
    },
    {
      "cell_type": "code",
      "source": [
        "# seperating feature and target column:\n",
        "x = df['reviews']\n",
        "\n",
        "# Create a mapping dictionary\n",
        "sentiment_mapping = {'negative': 0, 'positive': 1, 'neutral': 2}\n",
        "# Apply the mapping using the 'map' function\n",
        "y = df['target'].map(sentiment_mapping)"
      ],
      "metadata": {
        "id": "kIrnJOGViPWm"
      },
      "execution_count": 4,
      "outputs": []
    },
    {
      "cell_type": "code",
      "source": [
        "x_token_frame = x.copy()"
      ],
      "metadata": {
        "id": "ie9SE9pBtbYc"
      },
      "execution_count": 5,
      "outputs": []
    },
    {
      "cell_type": "code",
      "source": [
        "counter = 0\n",
        "for text in x:\n",
        "    split_word = []\n",
        "    for split in text.split():\n",
        "        split_word.append(split)\n",
        "    # Join and tokenize\n",
        "    tokenize_sentence = nltk.word_tokenize(' '.join(split_word))\n",
        "    x_token_frame[counter] = tokenize_sentence.copy()\n",
        "    counter = counter+1"
      ],
      "metadata": {
        "id": "vH0iNLehrvCu"
      },
      "execution_count": 6,
      "outputs": []
    },
    {
      "cell_type": "code",
      "source": [
        "x_token_frame.sample()"
      ],
      "metadata": {
        "colab": {
          "base_uri": "https://localhost:8080/"
        },
        "id": "yFV48i3_tD0a",
        "outputId": "b0023987-ed64-450a-c681-3a21801fb463"
      },
      "execution_count": 7,
      "outputs": [
        {
          "output_type": "execute_result",
          "data": {
            "text/plain": [
              "2878    [jetblue, start, xweekly, embraersa, e, flight...\n",
              "Name: reviews, dtype: object"
            ]
          },
          "metadata": {},
          "execution_count": 7
        }
      ]
    },
    {
      "cell_type": "code",
      "source": [
        "### integer encoding using keras:\n",
        "from keras.preprocessing.text import Tokenizer\n",
        "tokenizer = Tokenizer(oov_token = '')\n",
        "tokenizer.fit_on_texts(x_token_frame)"
      ],
      "metadata": {
        "id": "a0RB-fmai8fx"
      },
      "execution_count": 8,
      "outputs": []
    },
    {
      "cell_type": "code",
      "source": [],
      "metadata": {
        "id": "sCH04Cv-6Aod"
      },
      "execution_count": 8,
      "outputs": []
    },
    {
      "cell_type": "code",
      "source": [
        "## performing the split:\n",
        "\n",
        "from sklearn.model_selection import train_test_split\n",
        "\n",
        "x_train, x_test, y_train, y_test = train_test_split(x_token_frame, y, test_size=0.10)\n",
        "\n",
        "print(f\"x_train shape {x_train.shape} x_train_length: {len(x_train)}\")\n",
        "print(f\"y_train shape {y_train.shape} y_train_length: {len(y_train)}\")\n",
        "\n",
        "print(f\"x_test shape {x_test.shape} x_test_length: {len(x_test)}\")\n",
        "print(f\"y_test shape {y_test.shape} y_test_length: {len(y_test)}\")"
      ],
      "metadata": {
        "colab": {
          "base_uri": "https://localhost:8080/"
        },
        "id": "tH3pY3ESiKmt",
        "outputId": "b5e7daee-90b2-407b-85fa-608f39ef88e1"
      },
      "execution_count": 9,
      "outputs": [
        {
          "output_type": "stream",
          "name": "stdout",
          "text": [
            "x_train shape (5400,) x_train_length: 5400\n",
            "y_train shape (5400,) y_train_length: 5400\n",
            "x_test shape (600,) x_test_length: 600\n",
            "y_test shape (600,) y_test_length: 600\n"
          ]
        }
      ]
    },
    {
      "cell_type": "code",
      "source": [
        "x_train[0]"
      ],
      "metadata": {
        "colab": {
          "base_uri": "https://localhost:8080/"
        },
        "id": "iDnZoA7OzJGe",
        "outputId": "d6ee30c1-da12-4223-883c-238b24790291"
      },
      "execution_count": 10,
      "outputs": [
        {
          "output_type": "execute_result",
          "data": {
            "text/plain": [
              "['usairways',\n",
              " 'call',\n",
              " 'time',\n",
              " 'redeem',\n",
              " 'mile',\n",
              " 'point',\n",
              " 'cant',\n",
              " 'get',\n",
              " 'advertise',\n",
              " 'miles',\n",
              " 'make',\n",
              " 'hard',\n",
              " 'use']"
            ]
          },
          "metadata": {},
          "execution_count": 10
        }
      ]
    },
    {
      "cell_type": "code",
      "source": [
        "# searching max length and vocab size\n",
        "\n",
        "# findind input dim:\n",
        "vocab_size = len(tokenizer.word_index)\n",
        "vocab_size = vocab_size+1\n",
        "print(f\"Vocabulary size: {vocab_size}\")\n",
        "\n",
        "\n",
        "\n",
        "\n",
        "# searching max length:\n",
        "max_seq_length = 0\n",
        "for sentence in x_train:\n",
        "    current_length = len(sentence)\n",
        "    if current_length > max_seq_length:\n",
        "        max_seq_length = current_length\n",
        "\n",
        "print(\"max_seq_length\", max_seq_length)"
      ],
      "metadata": {
        "colab": {
          "base_uri": "https://localhost:8080/"
        },
        "id": "CM9FVGwUmF19",
        "outputId": "c6d8fff3-5cf0-43e9-a8db-88ac80a1ea24"
      },
      "execution_count": 11,
      "outputs": [
        {
          "output_type": "stream",
          "name": "stdout",
          "text": [
            "Vocabulary size: 7196\n",
            "max_seq_length 22\n"
          ]
        }
      ]
    },
    {
      "cell_type": "code",
      "source": [
        "x_train = tokenizer.texts_to_sequences(x_train)\n",
        "x_test = tokenizer.texts_to_sequences(x_test)"
      ],
      "metadata": {
        "id": "-jeaksI7jWzN"
      },
      "execution_count": 12,
      "outputs": []
    },
    {
      "cell_type": "code",
      "source": [],
      "metadata": {
        "id": "UVeUnKb48I2D"
      },
      "execution_count": 12,
      "outputs": []
    },
    {
      "cell_type": "code",
      "source": [
        "## paddding the each rows :\n",
        "from keras.utils import pad_sequences\n",
        "\n",
        "x_train = pad_sequences(x_train, maxlen=max_seq_length, padding='post')\n",
        "x_test = pad_sequences(x_test, maxlen=max_seq_length, padding='post')\n",
        "print(f\"x_train shape {x_train.shape}\\n x_train_length: {len(x_train)}\")\n",
        "print(f\"y_train shape {y_train.shape}\\n y_train_length: {len(y_train)}\")\n"
      ],
      "metadata": {
        "colab": {
          "base_uri": "https://localhost:8080/"
        },
        "id": "v_9Y7hPjoRZF",
        "outputId": "5866f7db-9bfb-48ea-b2e3-19f15f6743ef"
      },
      "execution_count": 13,
      "outputs": [
        {
          "output_type": "stream",
          "name": "stdout",
          "text": [
            "x_train shape (5400, 22)\n",
            " x_train_length: 5400\n",
            "y_train shape (5400,)\n",
            " y_train_length: 5400\n"
          ]
        }
      ]
    },
    {
      "cell_type": "code",
      "source": [
        "x_train[:2]"
      ],
      "metadata": {
        "colab": {
          "base_uri": "https://localhost:8080/"
        },
        "id": "ESgDGkl2ocWf",
        "outputId": "9180b824-964a-46ce-88d4-c78564bda120"
      },
      "execution_count": 14,
      "outputs": [
        {
          "output_type": "execute_result",
          "data": {
            "text/plain": [
              "array([[   5,  176,  615,  147, 3945,  460,  229,   81,   46,   19,  132,\n",
              "        2389,    8,    2, 2390,    0,    0,    0,    0,    0,    0,    0],\n",
              "       [   4,   24,   62, 5767,   30,  984, 5768, 1217, 1217,  125, 5769,\n",
              "           0,    0,    0,    0,    0,    0,    0,    0,    0,    0,    0]],\n",
              "      dtype=int32)"
            ]
          },
          "metadata": {},
          "execution_count": 14
        }
      ]
    },
    {
      "cell_type": "code",
      "source": [
        "## converting into numpy:\n",
        "\n",
        "x_train = np.array(x_train)\n",
        "x_test = np.array(x_test)\n",
        "y_train = np.array(y_train)\n",
        "y_test = np.array(y_test)\n"
      ],
      "metadata": {
        "id": "9P4b_UI0lUys"
      },
      "execution_count": 15,
      "outputs": []
    },
    {
      "cell_type": "code",
      "source": [
        "## creating sequential model layers:\n",
        "model_sentiments = tf.keras.Sequential([\n",
        "\n",
        "    tf.keras.layers.Embedding(input_dim = 7196 , output_dim=3, input_length = max_seq_length ),\n",
        "    tf.keras.layers.LSTM(100,dropout=0.2, activation='relu', return_sequences = True),  # Added return_sequences=True\n",
        "     tf.keras.layers.SpatialDropout1D(rate=0.3),\n",
        "    tf.keras.layers.LSTM(100, dropout=0.2, activation='relu', return_sequences = False),  # Added return_sequences=True\n",
        "\n",
        "    tf.keras.layers.Dense(3, activation='softmax')\n",
        "\n",
        "])\n",
        "\n",
        "\n",
        "## model summary:\n",
        "model_sentiments.summary()\n",
        ""
      ],
      "metadata": {
        "colab": {
          "base_uri": "https://localhost:8080/"
        },
        "id": "n_mppozpoVzq",
        "outputId": "e125fbc4-4149-4976-a2ee-bab60107eada"
      },
      "execution_count": 24,
      "outputs": [
        {
          "output_type": "stream",
          "name": "stdout",
          "text": [
            "Model: \"sequential_3\"\n",
            "_________________________________________________________________\n",
            " Layer (type)                Output Shape              Param #   \n",
            "=================================================================\n",
            " embedding_3 (Embedding)     (None, 22, 3)             21588     \n",
            "                                                                 \n",
            " lstm_7 (LSTM)               (None, 22, 100)           41600     \n",
            "                                                                 \n",
            " spatial_dropout1d_6 (Spati  (None, 22, 100)           0         \n",
            " alDropout1D)                                                    \n",
            "                                                                 \n",
            " lstm_8 (LSTM)               (None, 100)               80400     \n",
            "                                                                 \n",
            " dense_3 (Dense)             (None, 3)                 303       \n",
            "                                                                 \n",
            "=================================================================\n",
            "Total params: 143891 (562.07 KB)\n",
            "Trainable params: 143891 (562.07 KB)\n",
            "Non-trainable params: 0 (0.00 Byte)\n",
            "_________________________________________________________________\n"
          ]
        }
      ]
    },
    {
      "cell_type": "code",
      "source": [
        "# Create a function to implement a Earlystop callback with loss monitor)\n",
        "Early_stop = tf.keras.callbacks.EarlyStopping( monitor='val_loss', patience = 3, verbose = 2)\n",
        "\n",
        "## model compiling :\n",
        "optimize = tf.keras.optimizers.experimental.Adam(learning_rate=0.0001)\n",
        "model_sentiments.compile(optimizer= optimize, loss='sparse_categorical_crossentropy', metrics=['accuracy'])\n",
        "\n"
      ],
      "metadata": {
        "id": "QX3TWWFdqW7H"
      },
      "execution_count": 25,
      "outputs": []
    },
    {
      "cell_type": "code",
      "source": [
        "# fitting the model:\n",
        "history = model_sentiments.fit(x_train,y_train,\n",
        "                  validation_data=(x_test, y_test),\n",
        "                  batch_size=32,\n",
        "                  epochs=30,\n",
        "                  callbacks=Early_stop)\n"
      ],
      "metadata": {
        "colab": {
          "base_uri": "https://localhost:8080/"
        },
        "id": "ehejen9ZmOAP",
        "outputId": "98e1768b-1c2c-4090-f91b-be25533be369"
      },
      "execution_count": 26,
      "outputs": [
        {
          "output_type": "stream",
          "name": "stdout",
          "text": [
            "Epoch 1/30\n",
            "169/169 [==============================] - 11s 44ms/step - loss: 1.0982 - accuracy: 0.3459 - val_loss: 1.0963 - val_accuracy: 0.4433\n",
            "Epoch 2/30\n",
            "169/169 [==============================] - 8s 47ms/step - loss: 1.0460 - accuracy: 0.4519 - val_loss: 0.9973 - val_accuracy: 0.4967\n",
            "Epoch 3/30\n",
            "169/169 [==============================] - 8s 47ms/step - loss: 0.9371 - accuracy: 0.5174 - val_loss: 0.9311 - val_accuracy: 0.5350\n",
            "Epoch 4/30\n",
            "169/169 [==============================] - 7s 40ms/step - loss: 0.8934 - accuracy: 0.5465 - val_loss: 0.8753 - val_accuracy: 0.5767\n",
            "Epoch 5/30\n",
            "169/169 [==============================] - 8s 47ms/step - loss: 0.8464 - accuracy: 0.5837 - val_loss: 0.8457 - val_accuracy: 0.6100\n",
            "Epoch 6/30\n",
            "169/169 [==============================] - 7s 40ms/step - loss: 0.8090 - accuracy: 0.6172 - val_loss: 0.8236 - val_accuracy: 0.6317\n",
            "Epoch 7/30\n",
            "169/169 [==============================] - 8s 47ms/step - loss: 0.7731 - accuracy: 0.6469 - val_loss: 0.8091 - val_accuracy: 0.6300\n",
            "Epoch 8/30\n",
            "169/169 [==============================] - 7s 43ms/step - loss: 0.7403 - accuracy: 0.6694 - val_loss: 0.8032 - val_accuracy: 0.6300\n",
            "Epoch 9/30\n",
            "169/169 [==============================] - 7s 44ms/step - loss: 0.7138 - accuracy: 0.6928 - val_loss: 0.8031 - val_accuracy: 0.6583\n",
            "Epoch 10/30\n",
            "169/169 [==============================] - 9s 50ms/step - loss: 0.6822 - accuracy: 0.7122 - val_loss: 0.8027 - val_accuracy: 0.6483\n",
            "Epoch 11/30\n",
            "169/169 [==============================] - 7s 40ms/step - loss: 0.6592 - accuracy: 0.7196 - val_loss: 0.8039 - val_accuracy: 0.6567\n",
            "Epoch 12/30\n",
            "169/169 [==============================] - 8s 48ms/step - loss: 0.6321 - accuracy: 0.7339 - val_loss: 0.8087 - val_accuracy: 0.6467\n",
            "Epoch 13/30\n",
            "169/169 [==============================] - 7s 40ms/step - loss: 0.6196 - accuracy: 0.7474 - val_loss: 0.7930 - val_accuracy: 0.6600\n",
            "Epoch 14/30\n",
            "169/169 [==============================] - 8s 47ms/step - loss: 0.6003 - accuracy: 0.7572 - val_loss: 0.7719 - val_accuracy: 0.6633\n",
            "Epoch 15/30\n",
            "169/169 [==============================] - 8s 46ms/step - loss: 0.5737 - accuracy: 0.7711 - val_loss: 0.8143 - val_accuracy: 0.6467\n",
            "Epoch 16/30\n",
            "169/169 [==============================] - 7s 40ms/step - loss: 0.5586 - accuracy: 0.7722 - val_loss: 0.7964 - val_accuracy: 0.6550\n",
            "Epoch 17/30\n",
            "169/169 [==============================] - 8s 47ms/step - loss: 0.5454 - accuracy: 0.7894 - val_loss: 0.7973 - val_accuracy: 0.6450\n",
            "Epoch 17: early stopping\n"
          ]
        }
      ]
    },
    {
      "cell_type": "code",
      "source": [
        "prediction = model_sentiments.predict(x_test)"
      ],
      "metadata": {
        "colab": {
          "base_uri": "https://localhost:8080/"
        },
        "id": "vCUgY5HbSX6u",
        "outputId": "d95a8ccc-6258-44f5-a98f-a2f4539b8f29"
      },
      "execution_count": 32,
      "outputs": [
        {
          "output_type": "stream",
          "name": "stdout",
          "text": [
            "19/19 [==============================] - 0s 12ms/step\n"
          ]
        }
      ]
    },
    {
      "cell_type": "code",
      "source": [
        "y_pred = []\n",
        "\n",
        "for i in prediction:\n",
        "    # Convert the probabilities to a NumPy array\n",
        "    probabilities = np.array(i)\n",
        "    # Get the index of the class with the highest probability\n",
        "    predicted_class = np.argmax(probabilities)\n",
        "    y_pred.append(predicted_class)\n",
        ""
      ],
      "metadata": {
        "id": "kyg5Fr7gEUNA"
      },
      "execution_count": 37,
      "outputs": []
    },
    {
      "cell_type": "code",
      "source": [
        "from sklearn.metrics import mean_absolute_error\n",
        "\n",
        "mae = mean_absolute_error(y_test, y_pred)\n",
        "\n",
        "print(f\"Mean Absolute Error (MAE): {np.round(mae,2)}\")\n"
      ],
      "metadata": {
        "colab": {
          "base_uri": "https://localhost:8080/"
        },
        "id": "r3E2EYl7RDI-",
        "outputId": "4e5dbd22-25cc-42d0-98d5-c8b54ffe7a54"
      },
      "execution_count": 42,
      "outputs": [
        {
          "output_type": "stream",
          "name": "stdout",
          "text": [
            "Mean Absolute Error (MAE): 0.54\n"
          ]
        }
      ]
    },
    {
      "cell_type": "code",
      "source": [
        "result = []\n",
        "for i in range(len(y_test)):\n",
        "    if y_pred[i] == y_test[i]:\n",
        "        result.append('correct prediction')\n",
        "    else:\n",
        "        result.append('wrong prediction')\n",
        "\n",
        "\n",
        "test_table =  pd.DataFrame({'actual_sentiments': y_test, 'prediction_review': y_pred, 'result': result})\n",
        ""
      ],
      "metadata": {
        "id": "buXfVW2wR7Uy"
      },
      "execution_count": 44,
      "outputs": []
    },
    {
      "cell_type": "code",
      "source": [
        "test_table.sample(50)"
      ],
      "metadata": {
        "colab": {
          "base_uri": "https://localhost:8080/",
          "height": 1000
        },
        "id": "JRUCwqNyTuEz",
        "outputId": "542976c8-869f-4fce-c63f-1caaaa240358"
      },
      "execution_count": 46,
      "outputs": [
        {
          "output_type": "execute_result",
          "data": {
            "text/plain": [
              "     actual_sentiments  prediction_review              result\n",
              "201                  0                  2    wrong prediction\n",
              "150                  0                  0  correct prediction\n",
              "256                  1                  1  correct prediction\n",
              "98                   2                  1    wrong prediction\n",
              "183                  2                  0    wrong prediction\n",
              "469                  0                  0  correct prediction\n",
              "106                  2                  0    wrong prediction\n",
              "348                  0                  0  correct prediction\n",
              "97                   1                  1  correct prediction\n",
              "298                  1                  2    wrong prediction\n",
              "141                  0                  0  correct prediction\n",
              "194                  0                  2    wrong prediction\n",
              "479                  1                  2    wrong prediction\n",
              "368                  0                  0  correct prediction\n",
              "545                  1                  2    wrong prediction\n",
              "149                  0                  0  correct prediction\n",
              "63                   2                  1    wrong prediction\n",
              "444                  1                  1  correct prediction\n",
              "87                   2                  2  correct prediction\n",
              "295                  0                  2    wrong prediction\n",
              "486                  1                  2    wrong prediction\n",
              "301                  1                  1  correct prediction\n",
              "217                  2                  2  correct prediction\n",
              "310                  0                  0  correct prediction\n",
              "155                  0                  0  correct prediction\n",
              "249                  2                  0    wrong prediction\n",
              "58                   1                  1  correct prediction\n",
              "430                  0                  0  correct prediction\n",
              "390                  0                  0  correct prediction\n",
              "101                  2                  0    wrong prediction\n",
              "529                  0                  0  correct prediction\n",
              "577                  1                  2    wrong prediction\n",
              "76                   1                  1  correct prediction\n",
              "554                  1                  1  correct prediction\n",
              "319                  0                  2    wrong prediction\n",
              "316                  1                  1  correct prediction\n",
              "572                  1                  1  correct prediction\n",
              "455                  2                  2  correct prediction\n",
              "331                  1                  1  correct prediction\n",
              "448                  0                  0  correct prediction\n",
              "580                  2                  2  correct prediction\n",
              "96                   2                  2  correct prediction\n",
              "520                  0                  0  correct prediction\n",
              "453                  1                  1  correct prediction\n",
              "11                   1                  1  correct prediction\n",
              "133                  2                  2  correct prediction\n",
              "73                   1                  1  correct prediction\n",
              "324                  2                  2  correct prediction\n",
              "446                  0                  2    wrong prediction\n",
              "93                   0                  0  correct prediction"
            ],
            "text/html": [
              "\n",
              "  <div id=\"df-fb15eda7-6394-439a-998d-815b5e79279f\" class=\"colab-df-container\">\n",
              "    <div>\n",
              "<style scoped>\n",
              "    .dataframe tbody tr th:only-of-type {\n",
              "        vertical-align: middle;\n",
              "    }\n",
              "\n",
              "    .dataframe tbody tr th {\n",
              "        vertical-align: top;\n",
              "    }\n",
              "\n",
              "    .dataframe thead th {\n",
              "        text-align: right;\n",
              "    }\n",
              "</style>\n",
              "<table border=\"1\" class=\"dataframe\">\n",
              "  <thead>\n",
              "    <tr style=\"text-align: right;\">\n",
              "      <th></th>\n",
              "      <th>actual_sentiments</th>\n",
              "      <th>prediction_review</th>\n",
              "      <th>result</th>\n",
              "    </tr>\n",
              "  </thead>\n",
              "  <tbody>\n",
              "    <tr>\n",
              "      <th>201</th>\n",
              "      <td>0</td>\n",
              "      <td>2</td>\n",
              "      <td>wrong prediction</td>\n",
              "    </tr>\n",
              "    <tr>\n",
              "      <th>150</th>\n",
              "      <td>0</td>\n",
              "      <td>0</td>\n",
              "      <td>correct prediction</td>\n",
              "    </tr>\n",
              "    <tr>\n",
              "      <th>256</th>\n",
              "      <td>1</td>\n",
              "      <td>1</td>\n",
              "      <td>correct prediction</td>\n",
              "    </tr>\n",
              "    <tr>\n",
              "      <th>98</th>\n",
              "      <td>2</td>\n",
              "      <td>1</td>\n",
              "      <td>wrong prediction</td>\n",
              "    </tr>\n",
              "    <tr>\n",
              "      <th>183</th>\n",
              "      <td>2</td>\n",
              "      <td>0</td>\n",
              "      <td>wrong prediction</td>\n",
              "    </tr>\n",
              "    <tr>\n",
              "      <th>469</th>\n",
              "      <td>0</td>\n",
              "      <td>0</td>\n",
              "      <td>correct prediction</td>\n",
              "    </tr>\n",
              "    <tr>\n",
              "      <th>106</th>\n",
              "      <td>2</td>\n",
              "      <td>0</td>\n",
              "      <td>wrong prediction</td>\n",
              "    </tr>\n",
              "    <tr>\n",
              "      <th>348</th>\n",
              "      <td>0</td>\n",
              "      <td>0</td>\n",
              "      <td>correct prediction</td>\n",
              "    </tr>\n",
              "    <tr>\n",
              "      <th>97</th>\n",
              "      <td>1</td>\n",
              "      <td>1</td>\n",
              "      <td>correct prediction</td>\n",
              "    </tr>\n",
              "    <tr>\n",
              "      <th>298</th>\n",
              "      <td>1</td>\n",
              "      <td>2</td>\n",
              "      <td>wrong prediction</td>\n",
              "    </tr>\n",
              "    <tr>\n",
              "      <th>141</th>\n",
              "      <td>0</td>\n",
              "      <td>0</td>\n",
              "      <td>correct prediction</td>\n",
              "    </tr>\n",
              "    <tr>\n",
              "      <th>194</th>\n",
              "      <td>0</td>\n",
              "      <td>2</td>\n",
              "      <td>wrong prediction</td>\n",
              "    </tr>\n",
              "    <tr>\n",
              "      <th>479</th>\n",
              "      <td>1</td>\n",
              "      <td>2</td>\n",
              "      <td>wrong prediction</td>\n",
              "    </tr>\n",
              "    <tr>\n",
              "      <th>368</th>\n",
              "      <td>0</td>\n",
              "      <td>0</td>\n",
              "      <td>correct prediction</td>\n",
              "    </tr>\n",
              "    <tr>\n",
              "      <th>545</th>\n",
              "      <td>1</td>\n",
              "      <td>2</td>\n",
              "      <td>wrong prediction</td>\n",
              "    </tr>\n",
              "    <tr>\n",
              "      <th>149</th>\n",
              "      <td>0</td>\n",
              "      <td>0</td>\n",
              "      <td>correct prediction</td>\n",
              "    </tr>\n",
              "    <tr>\n",
              "      <th>63</th>\n",
              "      <td>2</td>\n",
              "      <td>1</td>\n",
              "      <td>wrong prediction</td>\n",
              "    </tr>\n",
              "    <tr>\n",
              "      <th>444</th>\n",
              "      <td>1</td>\n",
              "      <td>1</td>\n",
              "      <td>correct prediction</td>\n",
              "    </tr>\n",
              "    <tr>\n",
              "      <th>87</th>\n",
              "      <td>2</td>\n",
              "      <td>2</td>\n",
              "      <td>correct prediction</td>\n",
              "    </tr>\n",
              "    <tr>\n",
              "      <th>295</th>\n",
              "      <td>0</td>\n",
              "      <td>2</td>\n",
              "      <td>wrong prediction</td>\n",
              "    </tr>\n",
              "    <tr>\n",
              "      <th>486</th>\n",
              "      <td>1</td>\n",
              "      <td>2</td>\n",
              "      <td>wrong prediction</td>\n",
              "    </tr>\n",
              "    <tr>\n",
              "      <th>301</th>\n",
              "      <td>1</td>\n",
              "      <td>1</td>\n",
              "      <td>correct prediction</td>\n",
              "    </tr>\n",
              "    <tr>\n",
              "      <th>217</th>\n",
              "      <td>2</td>\n",
              "      <td>2</td>\n",
              "      <td>correct prediction</td>\n",
              "    </tr>\n",
              "    <tr>\n",
              "      <th>310</th>\n",
              "      <td>0</td>\n",
              "      <td>0</td>\n",
              "      <td>correct prediction</td>\n",
              "    </tr>\n",
              "    <tr>\n",
              "      <th>155</th>\n",
              "      <td>0</td>\n",
              "      <td>0</td>\n",
              "      <td>correct prediction</td>\n",
              "    </tr>\n",
              "    <tr>\n",
              "      <th>249</th>\n",
              "      <td>2</td>\n",
              "      <td>0</td>\n",
              "      <td>wrong prediction</td>\n",
              "    </tr>\n",
              "    <tr>\n",
              "      <th>58</th>\n",
              "      <td>1</td>\n",
              "      <td>1</td>\n",
              "      <td>correct prediction</td>\n",
              "    </tr>\n",
              "    <tr>\n",
              "      <th>430</th>\n",
              "      <td>0</td>\n",
              "      <td>0</td>\n",
              "      <td>correct prediction</td>\n",
              "    </tr>\n",
              "    <tr>\n",
              "      <th>390</th>\n",
              "      <td>0</td>\n",
              "      <td>0</td>\n",
              "      <td>correct prediction</td>\n",
              "    </tr>\n",
              "    <tr>\n",
              "      <th>101</th>\n",
              "      <td>2</td>\n",
              "      <td>0</td>\n",
              "      <td>wrong prediction</td>\n",
              "    </tr>\n",
              "    <tr>\n",
              "      <th>529</th>\n",
              "      <td>0</td>\n",
              "      <td>0</td>\n",
              "      <td>correct prediction</td>\n",
              "    </tr>\n",
              "    <tr>\n",
              "      <th>577</th>\n",
              "      <td>1</td>\n",
              "      <td>2</td>\n",
              "      <td>wrong prediction</td>\n",
              "    </tr>\n",
              "    <tr>\n",
              "      <th>76</th>\n",
              "      <td>1</td>\n",
              "      <td>1</td>\n",
              "      <td>correct prediction</td>\n",
              "    </tr>\n",
              "    <tr>\n",
              "      <th>554</th>\n",
              "      <td>1</td>\n",
              "      <td>1</td>\n",
              "      <td>correct prediction</td>\n",
              "    </tr>\n",
              "    <tr>\n",
              "      <th>319</th>\n",
              "      <td>0</td>\n",
              "      <td>2</td>\n",
              "      <td>wrong prediction</td>\n",
              "    </tr>\n",
              "    <tr>\n",
              "      <th>316</th>\n",
              "      <td>1</td>\n",
              "      <td>1</td>\n",
              "      <td>correct prediction</td>\n",
              "    </tr>\n",
              "    <tr>\n",
              "      <th>572</th>\n",
              "      <td>1</td>\n",
              "      <td>1</td>\n",
              "      <td>correct prediction</td>\n",
              "    </tr>\n",
              "    <tr>\n",
              "      <th>455</th>\n",
              "      <td>2</td>\n",
              "      <td>2</td>\n",
              "      <td>correct prediction</td>\n",
              "    </tr>\n",
              "    <tr>\n",
              "      <th>331</th>\n",
              "      <td>1</td>\n",
              "      <td>1</td>\n",
              "      <td>correct prediction</td>\n",
              "    </tr>\n",
              "    <tr>\n",
              "      <th>448</th>\n",
              "      <td>0</td>\n",
              "      <td>0</td>\n",
              "      <td>correct prediction</td>\n",
              "    </tr>\n",
              "    <tr>\n",
              "      <th>580</th>\n",
              "      <td>2</td>\n",
              "      <td>2</td>\n",
              "      <td>correct prediction</td>\n",
              "    </tr>\n",
              "    <tr>\n",
              "      <th>96</th>\n",
              "      <td>2</td>\n",
              "      <td>2</td>\n",
              "      <td>correct prediction</td>\n",
              "    </tr>\n",
              "    <tr>\n",
              "      <th>520</th>\n",
              "      <td>0</td>\n",
              "      <td>0</td>\n",
              "      <td>correct prediction</td>\n",
              "    </tr>\n",
              "    <tr>\n",
              "      <th>453</th>\n",
              "      <td>1</td>\n",
              "      <td>1</td>\n",
              "      <td>correct prediction</td>\n",
              "    </tr>\n",
              "    <tr>\n",
              "      <th>11</th>\n",
              "      <td>1</td>\n",
              "      <td>1</td>\n",
              "      <td>correct prediction</td>\n",
              "    </tr>\n",
              "    <tr>\n",
              "      <th>133</th>\n",
              "      <td>2</td>\n",
              "      <td>2</td>\n",
              "      <td>correct prediction</td>\n",
              "    </tr>\n",
              "    <tr>\n",
              "      <th>73</th>\n",
              "      <td>1</td>\n",
              "      <td>1</td>\n",
              "      <td>correct prediction</td>\n",
              "    </tr>\n",
              "    <tr>\n",
              "      <th>324</th>\n",
              "      <td>2</td>\n",
              "      <td>2</td>\n",
              "      <td>correct prediction</td>\n",
              "    </tr>\n",
              "    <tr>\n",
              "      <th>446</th>\n",
              "      <td>0</td>\n",
              "      <td>2</td>\n",
              "      <td>wrong prediction</td>\n",
              "    </tr>\n",
              "    <tr>\n",
              "      <th>93</th>\n",
              "      <td>0</td>\n",
              "      <td>0</td>\n",
              "      <td>correct prediction</td>\n",
              "    </tr>\n",
              "  </tbody>\n",
              "</table>\n",
              "</div>\n",
              "    <div class=\"colab-df-buttons\">\n",
              "\n",
              "  <div class=\"colab-df-container\">\n",
              "    <button class=\"colab-df-convert\" onclick=\"convertToInteractive('df-fb15eda7-6394-439a-998d-815b5e79279f')\"\n",
              "            title=\"Convert this dataframe to an interactive table.\"\n",
              "            style=\"display:none;\">\n",
              "\n",
              "  <svg xmlns=\"http://www.w3.org/2000/svg\" height=\"24px\" viewBox=\"0 -960 960 960\">\n",
              "    <path d=\"M120-120v-720h720v720H120Zm60-500h600v-160H180v160Zm220 220h160v-160H400v160Zm0 220h160v-160H400v160ZM180-400h160v-160H180v160Zm440 0h160v-160H620v160ZM180-180h160v-160H180v160Zm440 0h160v-160H620v160Z\"/>\n",
              "  </svg>\n",
              "    </button>\n",
              "\n",
              "  <style>\n",
              "    .colab-df-container {\n",
              "      display:flex;\n",
              "      gap: 12px;\n",
              "    }\n",
              "\n",
              "    .colab-df-convert {\n",
              "      background-color: #E8F0FE;\n",
              "      border: none;\n",
              "      border-radius: 50%;\n",
              "      cursor: pointer;\n",
              "      display: none;\n",
              "      fill: #1967D2;\n",
              "      height: 32px;\n",
              "      padding: 0 0 0 0;\n",
              "      width: 32px;\n",
              "    }\n",
              "\n",
              "    .colab-df-convert:hover {\n",
              "      background-color: #E2EBFA;\n",
              "      box-shadow: 0px 1px 2px rgba(60, 64, 67, 0.3), 0px 1px 3px 1px rgba(60, 64, 67, 0.15);\n",
              "      fill: #174EA6;\n",
              "    }\n",
              "\n",
              "    .colab-df-buttons div {\n",
              "      margin-bottom: 4px;\n",
              "    }\n",
              "\n",
              "    [theme=dark] .colab-df-convert {\n",
              "      background-color: #3B4455;\n",
              "      fill: #D2E3FC;\n",
              "    }\n",
              "\n",
              "    [theme=dark] .colab-df-convert:hover {\n",
              "      background-color: #434B5C;\n",
              "      box-shadow: 0px 1px 3px 1px rgba(0, 0, 0, 0.15);\n",
              "      filter: drop-shadow(0px 1px 2px rgba(0, 0, 0, 0.3));\n",
              "      fill: #FFFFFF;\n",
              "    }\n",
              "  </style>\n",
              "\n",
              "    <script>\n",
              "      const buttonEl =\n",
              "        document.querySelector('#df-fb15eda7-6394-439a-998d-815b5e79279f button.colab-df-convert');\n",
              "      buttonEl.style.display =\n",
              "        google.colab.kernel.accessAllowed ? 'block' : 'none';\n",
              "\n",
              "      async function convertToInteractive(key) {\n",
              "        const element = document.querySelector('#df-fb15eda7-6394-439a-998d-815b5e79279f');\n",
              "        const dataTable =\n",
              "          await google.colab.kernel.invokeFunction('convertToInteractive',\n",
              "                                                    [key], {});\n",
              "        if (!dataTable) return;\n",
              "\n",
              "        const docLinkHtml = 'Like what you see? Visit the ' +\n",
              "          '<a target=\"_blank\" href=https://colab.research.google.com/notebooks/data_table.ipynb>data table notebook</a>'\n",
              "          + ' to learn more about interactive tables.';\n",
              "        element.innerHTML = '';\n",
              "        dataTable['output_type'] = 'display_data';\n",
              "        await google.colab.output.renderOutput(dataTable, element);\n",
              "        const docLink = document.createElement('div');\n",
              "        docLink.innerHTML = docLinkHtml;\n",
              "        element.appendChild(docLink);\n",
              "      }\n",
              "    </script>\n",
              "  </div>\n",
              "\n",
              "\n",
              "<div id=\"df-28560b7c-9dd1-450f-9697-3e369b028484\">\n",
              "  <button class=\"colab-df-quickchart\" onclick=\"quickchart('df-28560b7c-9dd1-450f-9697-3e369b028484')\"\n",
              "            title=\"Suggest charts.\"\n",
              "            style=\"display:none;\">\n",
              "\n",
              "<svg xmlns=\"http://www.w3.org/2000/svg\" height=\"24px\"viewBox=\"0 0 24 24\"\n",
              "     width=\"24px\">\n",
              "    <g>\n",
              "        <path d=\"M19 3H5c-1.1 0-2 .9-2 2v14c0 1.1.9 2 2 2h14c1.1 0 2-.9 2-2V5c0-1.1-.9-2-2-2zM9 17H7v-7h2v7zm4 0h-2V7h2v10zm4 0h-2v-4h2v4z\"/>\n",
              "    </g>\n",
              "</svg>\n",
              "  </button>\n",
              "\n",
              "<style>\n",
              "  .colab-df-quickchart {\n",
              "      --bg-color: #E8F0FE;\n",
              "      --fill-color: #1967D2;\n",
              "      --hover-bg-color: #E2EBFA;\n",
              "      --hover-fill-color: #174EA6;\n",
              "      --disabled-fill-color: #AAA;\n",
              "      --disabled-bg-color: #DDD;\n",
              "  }\n",
              "\n",
              "  [theme=dark] .colab-df-quickchart {\n",
              "      --bg-color: #3B4455;\n",
              "      --fill-color: #D2E3FC;\n",
              "      --hover-bg-color: #434B5C;\n",
              "      --hover-fill-color: #FFFFFF;\n",
              "      --disabled-bg-color: #3B4455;\n",
              "      --disabled-fill-color: #666;\n",
              "  }\n",
              "\n",
              "  .colab-df-quickchart {\n",
              "    background-color: var(--bg-color);\n",
              "    border: none;\n",
              "    border-radius: 50%;\n",
              "    cursor: pointer;\n",
              "    display: none;\n",
              "    fill: var(--fill-color);\n",
              "    height: 32px;\n",
              "    padding: 0;\n",
              "    width: 32px;\n",
              "  }\n",
              "\n",
              "  .colab-df-quickchart:hover {\n",
              "    background-color: var(--hover-bg-color);\n",
              "    box-shadow: 0 1px 2px rgba(60, 64, 67, 0.3), 0 1px 3px 1px rgba(60, 64, 67, 0.15);\n",
              "    fill: var(--button-hover-fill-color);\n",
              "  }\n",
              "\n",
              "  .colab-df-quickchart-complete:disabled,\n",
              "  .colab-df-quickchart-complete:disabled:hover {\n",
              "    background-color: var(--disabled-bg-color);\n",
              "    fill: var(--disabled-fill-color);\n",
              "    box-shadow: none;\n",
              "  }\n",
              "\n",
              "  .colab-df-spinner {\n",
              "    border: 2px solid var(--fill-color);\n",
              "    border-color: transparent;\n",
              "    border-bottom-color: var(--fill-color);\n",
              "    animation:\n",
              "      spin 1s steps(1) infinite;\n",
              "  }\n",
              "\n",
              "  @keyframes spin {\n",
              "    0% {\n",
              "      border-color: transparent;\n",
              "      border-bottom-color: var(--fill-color);\n",
              "      border-left-color: var(--fill-color);\n",
              "    }\n",
              "    20% {\n",
              "      border-color: transparent;\n",
              "      border-left-color: var(--fill-color);\n",
              "      border-top-color: var(--fill-color);\n",
              "    }\n",
              "    30% {\n",
              "      border-color: transparent;\n",
              "      border-left-color: var(--fill-color);\n",
              "      border-top-color: var(--fill-color);\n",
              "      border-right-color: var(--fill-color);\n",
              "    }\n",
              "    40% {\n",
              "      border-color: transparent;\n",
              "      border-right-color: var(--fill-color);\n",
              "      border-top-color: var(--fill-color);\n",
              "    }\n",
              "    60% {\n",
              "      border-color: transparent;\n",
              "      border-right-color: var(--fill-color);\n",
              "    }\n",
              "    80% {\n",
              "      border-color: transparent;\n",
              "      border-right-color: var(--fill-color);\n",
              "      border-bottom-color: var(--fill-color);\n",
              "    }\n",
              "    90% {\n",
              "      border-color: transparent;\n",
              "      border-bottom-color: var(--fill-color);\n",
              "    }\n",
              "  }\n",
              "</style>\n",
              "\n",
              "  <script>\n",
              "    async function quickchart(key) {\n",
              "      const quickchartButtonEl =\n",
              "        document.querySelector('#' + key + ' button');\n",
              "      quickchartButtonEl.disabled = true;  // To prevent multiple clicks.\n",
              "      quickchartButtonEl.classList.add('colab-df-spinner');\n",
              "      try {\n",
              "        const charts = await google.colab.kernel.invokeFunction(\n",
              "            'suggestCharts', [key], {});\n",
              "      } catch (error) {\n",
              "        console.error('Error during call to suggestCharts:', error);\n",
              "      }\n",
              "      quickchartButtonEl.classList.remove('colab-df-spinner');\n",
              "      quickchartButtonEl.classList.add('colab-df-quickchart-complete');\n",
              "    }\n",
              "    (() => {\n",
              "      let quickchartButtonEl =\n",
              "        document.querySelector('#df-28560b7c-9dd1-450f-9697-3e369b028484 button');\n",
              "      quickchartButtonEl.style.display =\n",
              "        google.colab.kernel.accessAllowed ? 'block' : 'none';\n",
              "    })();\n",
              "  </script>\n",
              "</div>\n",
              "    </div>\n",
              "  </div>\n"
            ]
          },
          "metadata": {},
          "execution_count": 46
        }
      ]
    },
    {
      "cell_type": "code",
      "source": [
        "## checking predtion:\n",
        "\n",
        "comment = \"the airpalne got crack on the WINDOW seat are not comfortable\""
      ],
      "metadata": {
        "id": "OyntOiKZUbuq"
      },
      "execution_count": 59,
      "outputs": []
    },
    {
      "cell_type": "code",
      "source": [
        "## from nltk import stopwords\n",
        "from nltk.corpus import stopwords\n",
        "\n",
        "## from nltk importing WordNetLemmatizer\n",
        "from nltk.stem import WordNetLemmatizer\n",
        "\n",
        "## downloading pre define list, we can make customized one\n",
        "nltk.download('punkt')\n",
        "nltk.download('stopwords')\n",
        "nltk.download('wordnet')\n",
        "# Get the list of unique English stopwords\n",
        "stop_words_eng = set(stopwords.words('english'))\n",
        "\n",
        "# Initialize lemmatizer\n",
        "lemmatizer = WordNetLemmatizer()"
      ],
      "metadata": {
        "colab": {
          "base_uri": "https://localhost:8080/"
        },
        "id": "vQ7CQTdfXr1Q",
        "outputId": "a0385851-d4ff-4498-b69a-7960ad993e48"
      },
      "execution_count": 60,
      "outputs": [
        {
          "output_type": "stream",
          "name": "stderr",
          "text": [
            "[nltk_data] Downloading package punkt to /root/nltk_data...\n",
            "[nltk_data]   Package punkt is already up-to-date!\n",
            "[nltk_data] Downloading package stopwords to /root/nltk_data...\n",
            "[nltk_data]   Package stopwords is already up-to-date!\n",
            "[nltk_data] Downloading package wordnet to /root/nltk_data...\n",
            "[nltk_data]   Package wordnet is already up-to-date!\n"
          ]
        }
      ]
    },
    {
      "cell_type": "code",
      "source": [
        "import nltk\n",
        "from nltk.tokenize import word_tokenize\n",
        "from tensorflow.keras.preprocessing.sequence import pad_sequences\n",
        "\n",
        "def sentiment_of_comment(text):\n",
        "    try:\n",
        "        tweet = []\n",
        "        text = text.lower()\n",
        "        split_text = word_tokenize(text)  # Use nltk's word_tokenize for tokenization\n",
        "\n",
        "        for j in split_text:\n",
        "            if j not in stop_words_eng:\n",
        "                base_form = lemmatizer.lemmatize(j, pos='v')\n",
        "                tweet.append(base_form)\n",
        "            else:\n",
        "                pass\n",
        "\n",
        "        clean_text = ' '.join(tweet)\n",
        "        token_word = tokenizer.texts_to_sequences([clean_text])  # Tokenize the clean text\n",
        "        token_word = pad_sequences(token_word, maxlen=max_seq_length, padding='post')  # Pad the sequences\n",
        "\n",
        "        prediction = model_sentiments.predict(token_word)\n",
        "        pred_class = np.argmax(prediction)\n",
        "        comment_list = ['negative', 'positive', 'neutral']\n",
        "\n",
        "        return comment_list[pred_class]\n",
        "\n",
        "\n",
        "    except Exception as e:\n",
        "        raise Exception(e)\n",
        "\n"
      ],
      "metadata": {
        "id": "IgJLJXu9c1DC"
      },
      "execution_count": 93,
      "outputs": []
    },
    {
      "cell_type": "code",
      "source": [
        "# Test the process function\n",
        "comment = \"while flying passangers situation become worse when one engine failed\"\n",
        "sentiment = sentiment_of_comment(comment)\n",
        "print(sentiment)"
      ],
      "metadata": {
        "colab": {
          "base_uri": "https://localhost:8080/"
        },
        "id": "t9UU3UG-eAW6",
        "outputId": "01b1095f-f2d9-49c5-f38b-1df4f0cd3b6f"
      },
      "execution_count": 99,
      "outputs": [
        {
          "output_type": "stream",
          "name": "stdout",
          "text": [
            "1/1 [==============================] - 0s 28ms/step\n",
            "negative\n"
          ]
        }
      ]
    },
    {
      "cell_type": "markdown",
      "source": [
        "---\n",
        "---"
      ],
      "metadata": {
        "id": "lEfNnem3i7l_"
      }
    }
  ]
}